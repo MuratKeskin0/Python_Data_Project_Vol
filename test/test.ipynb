{
 "cells": [
  {
   "cell_type": "code",
   "execution_count": 15,
   "metadata": {},
   "outputs": [
    {
     "ename": "ModuleNotFoundError",
     "evalue": "No module named 'missing_value_handler'",
     "output_type": "error",
     "traceback": [
      "\u001b[1;31m---------------------------------------------------------------------------\u001b[0m",
      "\u001b[1;31mModuleNotFoundError\u001b[0m                       Traceback (most recent call last)",
      "Cell \u001b[1;32mIn[15], line 6\u001b[0m\n\u001b[0;32m      4\u001b[0m \u001b[38;5;28;01mimport\u001b[39;00m \u001b[38;5;21;01mpandas\u001b[39;00m \u001b[38;5;28;01mas\u001b[39;00m \u001b[38;5;21;01mpd\u001b[39;00m\n\u001b[0;32m      5\u001b[0m \u001b[38;5;28;01mimport\u001b[39;00m \u001b[38;5;21;01mmatplotlib\u001b[39;00m\u001b[38;5;21;01m.\u001b[39;00m\u001b[38;5;21;01mpyplot\u001b[39;00m \u001b[38;5;28;01mas\u001b[39;00m \u001b[38;5;21;01mplt\u001b[39;00m\n\u001b[1;32m----> 6\u001b[0m \u001b[38;5;28;01mfrom\u001b[39;00m \u001b[38;5;21;01msrc\u001b[39;00m\u001b[38;5;21;01m.\u001b[39;00m\u001b[38;5;21;01mmissing_value_handler\u001b[39;00m \u001b[38;5;28;01mimport\u001b[39;00m MissingValueHandler\n\u001b[0;32m      7\u001b[0m \u001b[38;5;28;01mfrom\u001b[39;00m \u001b[38;5;21;01msrc\u001b[39;00m\u001b[38;5;21;01m.\u001b[39;00m\u001b[38;5;21;01moutlier_handler\u001b[39;00m \u001b[38;5;28;01mimport\u001b[39;00m OutlierHandler\n\u001b[0;32m      8\u001b[0m \u001b[38;5;28;01mfrom\u001b[39;00m \u001b[38;5;21;01msrc\u001b[39;00m\u001b[38;5;21;01m.\u001b[39;00m\u001b[38;5;21;01mscaler\u001b[39;00m \u001b[38;5;28;01mimport\u001b[39;00m Scaler\n",
      "File \u001b[1;32mc:\\Users\\murat\\OneDrive\\Belgeler\\GitHub\\Term_Project_Python_Data_Cleaning\\test\\..\\src\\__init__.py:1\u001b[0m\n\u001b[1;32m----> 1\u001b[0m \u001b[38;5;28;01mfrom\u001b[39;00m \u001b[38;5;21;01mmissing_value_handler\u001b[39;00m \u001b[38;5;28;01mimport\u001b[39;00m MissingValueHandler\n\u001b[0;32m      2\u001b[0m \u001b[38;5;28;01mfrom\u001b[39;00m \u001b[38;5;21;01moutlier_handler\u001b[39;00m \u001b[38;5;28;01mimport\u001b[39;00m OutlierHandler\n\u001b[0;32m      3\u001b[0m \u001b[38;5;28;01mfrom\u001b[39;00m \u001b[38;5;21;01mscaler\u001b[39;00m \u001b[38;5;28;01mimport\u001b[39;00m Scaler\n",
      "\u001b[1;31mModuleNotFoundError\u001b[0m: No module named 'missing_value_handler'"
     ]
    }
   ],
   "source": [
    "import sys\n",
    "sys.path.append(\"..\")\n",
    "\n",
    "import pandas as pd\n",
    "import matplotlib.pyplot as plt\n",
    "from src.missing_value_handler import MissingValueHandler\n",
    "from src.outlier_handler import OutlierHandler\n",
    "from src.scaler import Scaler\n",
    "from src.text_cleaner import TextCleaner\n",
    "from src.feature_engineer import FeatureEngineer\n",
    "from src.data_type_converter import DataTypeConverter\n",
    "from src.categorical_encoder import CategoricalEncoder\n",
    "from src.date_time_handler import DateTimeHandler\n",
    "\n",
    "\n",
    "# Load sample data\n",
    "df = pd.read_csv('synthetic_sample_data.csv')\n",
    "\n",
    "\n",
    "# Function to plot distributions of numeric columns\n",
    "def plot_numeric_distributions(df, title):\n",
    "    df.hist(bins=15, figsize=(15, 10))\n",
    "    plt.suptitle(title)\n",
    "    plt.show()\n",
    "\n",
    "# Function to plot outliers\n",
    "def plot_outliers(df, outliers, column):\n",
    "    plt.figure(figsize=(10, 6))\n",
    "    plt.scatter(df.index, df[column], label='Data')\n",
    "    plt.scatter(outliers.index, outliers[column], color='red', label='Outliers')\n",
    "    plt.xlabel('Index')\n",
    "    plt.ylabel(column)\n",
    "    plt.title(f'Outliers in {column}')\n",
    "    plt.legend()\n",
    "    plt.show()"
   ]
  },
  {
   "cell_type": "code",
   "execution_count": null,
   "metadata": {},
   "outputs": [],
   "source": [
    "def test_missing_value_handler(sample_data, missing_value_handler):\n",
    "    df = sample_data.copy()\n",
    "    # Assuming handle_missing_values is a method in MissingValueHandler\n",
    "    df_cleaned = missing_value_handler.handle_missing_values(df)\n",
    "    assert df_cleaned.isnull().sum().sum() == 0"
   ]
  },
  {
   "cell_type": "code",
   "execution_count": null,
   "metadata": {},
   "outputs": [],
   "source": [
    "\n",
    "def test_outlier_handler(sample_data, outlier_handler):\n",
    "    df = sample_data.copy()\n",
    "    # Assuming detect_outliers is a method in OutlierHandler\n",
    "    outliers = outlier_handler.detect_outliers(df, column='some_column')\n",
    "    assert not outliers.empty\n",
    "    plot_outliers(df, outliers, 'some_column')\n"
   ]
  },
  {
   "cell_type": "code",
   "execution_count": null,
   "metadata": {},
   "outputs": [],
   "source": [
    "def test_scaler(sample_data, outlier_handler, scaler):\n",
    "    df = sample_data.copy()\n",
    "    # Clean outliers first\n",
    "    df_cleaned_outliers = outlier_handler.handle_outliers(df)\n",
    "    \n",
    "    # Assuming standard_scaler is a method in Scaler\n",
    "    numeric_columns = df_cleaned_outliers.select_dtypes(include='number').columns\n",
    "    scaler = Scaler(df_cleaned_outliers.copy())\n",
    "    scaler.standard_scaler(numeric_columns)\n",
    "    df_cleaned_scaler = scaler.df\n",
    "\n",
    "    print(\"\\nDataFrame after scaling numeric columns:\")\n",
    "    print(df_cleaned_scaler[numeric_columns])\n",
    "    plot_numeric_distributions(df_cleaned_scaler, 'Distributions after Scaling')\n",
    "\n"
   ]
  },
  {
   "cell_type": "code",
   "execution_count": null,
   "metadata": {},
   "outputs": [],
   "source": [
    "def test_text_cleaner(sample_data, scaler, text_cleaner):\n",
    "    df = sample_data.copy()\n",
    "    # Assuming previous steps were already done\n",
    "    df_cleaned = scaler.df\n",
    "\n",
    "    # Clean text for all object type columns that are likely text\n",
    "    df_cleaned_textcleaner = df_cleaned.copy()\n",
    "    text_columns = df_cleaned_textcleaner.select_dtypes(include=['object']).columns\n",
    "    for column in text_columns:\n",
    "        text_cleaner = TextCleaner(df_cleaned_textcleaner, column)\n",
    "        df_cleaned_textcleaner = text_cleaner.to_lowercase()\n",
    "        df_cleaned_textcleaner = text_cleaner.remove_punctuation()\n",
    "        df_cleaned_textcleaner = text_cleaner.remove_stopwords()\n",
    "        df_cleaned_textcleaner = text_cleaner.lemmatize()\n",
    "\n",
    "    print(\"\\nDataFrame after cleaning text columns:\")\n",
    "    print(df_cleaned_textcleaner[text_columns])\n",
    "\n"
   ]
  },
  {
   "cell_type": "code",
   "execution_count": null,
   "metadata": {},
   "outputs": [],
   "source": [
    "def test_feature_engineer(sample_data, scaler, text_cleaner, feature_engineer):\n",
    "    df = sample_data.copy()\n",
    "    # Assuming previous steps were already done\n",
    "    df_cleaned = scaler.df\n",
    "\n",
    "    # Clean text for all object type columns that are likely text\n",
    "    df_cleaned_textcleaner = df_cleaned.copy()\n",
    "    text_columns = df_cleaned_textcleaner.select_dtypes(include=['object']).columns\n",
    "    for column in text_columns:\n",
    "        text_cleaner = TextCleaner(df_cleaned_textcleaner, column)\n",
    "        df_cleaned_textcleaner = text_cleaner.to_lowercase()\n",
    "        df_cleaned_textcleaner = text_cleaner.remove_punctuation()\n",
    "        df_cleaned_textcleaner = text_cleaner.remove_stopwords()\n",
    "        df_cleaned_textcleaner = text_cleaner.lemmatize()\n",
    "\n",
    "    # Feature engineering - add interaction term for all numeric columns pairs\n",
    "    df_cleaned_featureengineer = df_cleaned_textcleaner.copy()\n",
    "    numeric_columns = df_cleaned_featureengineer.select_dtypes(include='number').columns\n",
    "    feature_engineer = FeatureEngineer(df_cleaned_featureengineer)\n",
    "    for i, col1 in enumerate(numeric_columns):\n",
    "        for col2 in numeric_columns[i+1:]:\n",
    "            interaction_term = f'{col1}_{col2}_interaction'\n",
    "            df_cleaned_featureengineer = feature_engineer.add_interaction_term(col1, col2, interaction_term)\n",
    "\n",
    "    print(\"\\nDataFrame after adding interaction terms between numeric columns:\")\n",
    "    print(df_cleaned_featureengineer)\n",
    "    plot_numeric_distributions(df_cleaned_featureengineer, 'Distributions after Feature Engineering')\n"
   ]
  },
  {
   "cell_type": "code",
   "execution_count": null,
   "metadata": {},
   "outputs": [],
   "source": [
    "# Convert all object columns to categorical and specified columns to numeric\n",
    "df_cleaned_datatypeconverter = df_cleaned_featureengineer.copy()\n",
    "data_type_converter = DataTypeConverter(df_cleaned_datatypeconverter)\n",
    "df_cleaned_datatypeconverter = data_type_converter.to_categorical(text_columns)\n",
    "df_cleaned_datatypeconverter = data_type_converter.to_numeric(numeric_columns)\n",
    "\n",
    "print(\"\\nDataFrame after converting text columns to categorical and numeric columns to numeric:\")\n",
    "print(df_cleaned_datatypeconverter.dtypes)"
   ]
  },
  {
   "cell_type": "code",
   "execution_count": null,
   "metadata": {},
   "outputs": [],
   "source": [
    "# One-hot encode all categorical columns\n",
    "df_cleaned_categoricalencoder = df_cleaned_datatypeconverter.copy()\n",
    "categorical_encoder = CategoricalEncoder(df_cleaned_categoricalencoder)\n",
    "for column in text_columns:\n",
    "    df_cleaned_categoricalencoder = categorical_encoder.one_hot_encode(column)\n",
    "\n",
    "print(\"\\nDataFrame after one-hot encoding categorical columns:\")\n",
    "print(df_cleaned_categoricalencoder)"
   ]
  },
  {
   "cell_type": "code",
   "execution_count": null,
   "metadata": {},
   "outputs": [],
   "source": [
    "\n",
    "# Handle datetime columns dynamically\n",
    "df_cleaned_datetimehandler = df_cleaned_categoricalencoder.copy()\n",
    "date_columns = df_cleaned_datetimehandler.select_dtypes(include=['object']).columns  # Assuming date columns are initially in object type\n",
    "datetime_handler = DateTimeHandler(df_cleaned_datetimehandler)\n",
    "for column in date_columns:\n",
    "    df_cleaned_datetimehandler = datetime_handler.to_datetime(column)\n",
    "    df_cleaned_datetimehandler = datetime_handler.extract_date_parts(column)\n",
    "\n",
    "print(\"\\nDataFrame after handling datetime columns:\")\n",
    "print(df_cleaned_datetimehandler)"
   ]
  }
 ],
 "metadata": {
  "kernelspec": {
   "display_name": "Python 3",
   "language": "python",
   "name": "python3"
  },
  "language_info": {
   "codemirror_mode": {
    "name": "ipython",
    "version": 3
   },
   "file_extension": ".py",
   "mimetype": "text/x-python",
   "name": "python",
   "nbconvert_exporter": "python",
   "pygments_lexer": "ipython3",
   "version": "3.12.2"
  }
 },
 "nbformat": 4,
 "nbformat_minor": 2
}
